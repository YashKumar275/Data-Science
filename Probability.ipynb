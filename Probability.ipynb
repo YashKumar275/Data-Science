{
 "cells": [
  {
   "cell_type": "markdown",
   "id": "412c73ba",
   "metadata": {},
   "source": [
    "# Conditional Probability"
   ]
  },
  {
   "cell_type": "markdown",
   "id": "bcc11f7a",
   "metadata": {},
   "source": [
    "Creating some fake data on how much stuff people purchase given their age range.\n",
    "\n",
    "It generates 100,000 random \"people\" and randomly assigns them as being in their 20's, 30's, 40's, 50's, 60's, or 70's.\n",
    "\n",
    "It then assigns a lower probability for young people to buy stuff.\n",
    "\n",
    "In the end, we have two Python dictionaries:\n",
    "\n",
    "\"totals\" contains the total number of people in each age group. \"purchases\" contains the total number of things purchased by people in each age group. The grand total of purchases is in totalPurchases, and the total number of people is 100,000."
   ]
  },
  {
   "cell_type": "code",
   "execution_count": 1,
   "id": "6ef3f000",
   "metadata": {},
   "outputs": [],
   "source": [
    "from numpy import random\n",
    "random.seed(0)  #it keeps the random numbers same\n",
    "\n",
    "totals = {20:0, 30:0, 40:0, 50:0, 60:0, 70:0}\n",
    "purchases = {20:0, 30:0, 40:0, 50:0, 60:0, 70:0}      #0 purchases in 20 at initial state\n",
    "totalPurchases = 0\n",
    "for i in range(100000):\n",
    "    age = random.choice([20, 30, 40, 50, 60, 70])\n",
    "    purchaseProbability = float(age) / 100.0\n",
    "    totals[age] += 1\n",
    "    if (random.random() < purchaseProbability):        #random.random() takes a random value between 0 and 1\n",
    "        totalPurchases += 1\n",
    "        purchases[age] += 1"
   ]
  },
  {
   "cell_type": "code",
   "execution_count": 2,
   "id": "5c7ea014",
   "metadata": {},
   "outputs": [
    {
     "data": {
      "text/plain": [
       "{20: 16576, 30: 16619, 40: 16632, 50: 16805, 60: 16664, 70: 16704}"
      ]
     },
     "execution_count": 2,
     "metadata": {},
     "output_type": "execute_result"
    }
   ],
   "source": [
    "totals"
   ]
  },
  {
   "cell_type": "code",
   "execution_count": 3,
   "id": "d5560108",
   "metadata": {},
   "outputs": [
    {
     "data": {
      "text/plain": [
       "{20: 3392, 30: 4974, 40: 6670, 50: 8319, 60: 9944, 70: 11713}"
      ]
     },
     "execution_count": 3,
     "metadata": {},
     "output_type": "execute_result"
    }
   ],
   "source": [
    "purchases"
   ]
  },
  {
   "cell_type": "code",
   "execution_count": 4,
   "id": "2cda32bd",
   "metadata": {},
   "outputs": [
    {
     "data": {
      "text/plain": [
       "45012"
      ]
     },
     "execution_count": 4,
     "metadata": {},
     "output_type": "execute_result"
    }
   ],
   "source": [
    "totalPurchases"
   ]
  },
  {
   "cell_type": "markdown",
   "id": "8df3fad1",
   "metadata": {},
   "source": [
    "Let's compute P(E|F), where E is the \"purchase\" and F is \"age 40's\". The probability of someone in their 40's buying something is just the percentage of how many 40-year olds bought something:"
   ]
  },
  {
   "cell_type": "code",
   "execution_count": 5,
   "id": "d0b672b8",
   "metadata": {},
   "outputs": [
    {
     "name": "stdout",
     "output_type": "stream",
     "text": [
      "P(purchase | 40's):  0.401034151034151\n"
     ]
    }
   ],
   "source": [
    "PEF = float(purchases[40]) / float(totals[40])\n",
    "print('P(purchase | 40\\'s): ', PEF)"
   ]
  },
  {
   "cell_type": "code",
   "execution_count": 6,
   "id": "6a3230b0",
   "metadata": {},
   "outputs": [
    {
     "name": "stdout",
     "output_type": "stream",
     "text": [
      "P(40's):  0.16632\n"
     ]
    }
   ],
   "source": [
    "PF = float(totals[40]) / 100000.0\n",
    "print('P(40\\'s): ', PF)"
   ]
  },
  {
   "cell_type": "code",
   "execution_count": 7,
   "id": "ce9637f5",
   "metadata": {},
   "outputs": [
    {
     "name": "stdout",
     "output_type": "stream",
     "text": [
      "P(Purchase):  0.45012\n"
     ]
    }
   ],
   "source": [
    "PE = float(totalPurchases) / 100000.0\n",
    "print('P(Purchase): ', PE)"
   ]
  },
  {
   "cell_type": "code",
   "execution_count": 8,
   "id": "000038a2",
   "metadata": {},
   "outputs": [
    {
     "name": "stdout",
     "output_type": "stream",
     "text": [
      "P(40's, Purchase):  0.0667\n"
     ]
    }
   ],
   "source": [
    "print(\"P(40's, Purchase): \", float(purchases[40] / 100000.0))"
   ]
  },
  {
   "cell_type": "code",
   "execution_count": 9,
   "id": "c43df67d",
   "metadata": {},
   "outputs": [
    {
     "name": "stdout",
     "output_type": "stream",
     "text": [
      "P(40's)P(Purchase):  0.0748639584\n"
     ]
    }
   ],
   "source": [
    "print(\"P(40's)P(Purchase): \", PE * PF)"
   ]
  },
  {
   "cell_type": "code",
   "execution_count": 10,
   "id": "deda990d",
   "metadata": {},
   "outputs": [
    {
     "name": "stdout",
     "output_type": "stream",
     "text": [
      "0.401034151034151\n"
     ]
    }
   ],
   "source": [
    "print((purchases[40] / 100000.0) / PF)"
   ]
  },
  {
   "cell_type": "markdown",
   "id": "7251f124",
   "metadata": {},
   "source": [
    "# Bayes' Theorem\n",
    "P(A|B) = P(A)P(B|A)/P(B)\n",
    "The probability of A given B, is the probability of A times the probability of B given A over the probability of B."
   ]
  },
  {
   "cell_type": "code",
   "execution_count": 11,
   "id": "3915bc0d",
   "metadata": {},
   "outputs": [
    {
     "name": "stdout",
     "output_type": "stream",
     "text": [
      "P(40's | purchase):  0.14818270683373322\n"
     ]
    }
   ],
   "source": [
    "PFE = (PF*PEF)/PE\n",
    "print(\"P(40\\'s | purchase): \", PFE)"
   ]
  }
 ],
 "metadata": {
  "kernelspec": {
   "display_name": "Python 3 (ipykernel)",
   "language": "python",
   "name": "python3"
  },
  "language_info": {
   "codemirror_mode": {
    "name": "ipython",
    "version": 3
   },
   "file_extension": ".py",
   "mimetype": "text/x-python",
   "name": "python",
   "nbconvert_exporter": "python",
   "pygments_lexer": "ipython3",
   "version": "3.10.0"
  }
 },
 "nbformat": 4,
 "nbformat_minor": 5
}
