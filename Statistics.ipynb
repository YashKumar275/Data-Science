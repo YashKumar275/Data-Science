{
 "cells": [
  {
   "cell_type": "markdown",
   "id": "0581466f",
   "metadata": {},
   "source": [
    "# Mean"
   ]
  },
  {
   "cell_type": "code",
   "execution_count": 2,
   "id": "30ce54a3",
   "metadata": {},
   "outputs": [
    {
     "data": {
      "text/plain": [
       "1938.0689113794667"
      ]
     },
     "execution_count": 2,
     "metadata": {},
     "output_type": "execute_result"
    }
   ],
   "source": [
    "import numpy as np\n",
    "\n",
    "income = np.random.normal(2000, 1500, 1000)\n",
    "np.mean(income)"
   ]
  },
  {
   "cell_type": "code",
   "execution_count": 9,
   "id": "c08fb486",
   "metadata": {},
   "outputs": [
    {
     "data": {
      "image/png": "[encoded data removed]",
      "text/plain": [
       "<Figure size 640x480 with 1 Axes>"
      ]
     },
     "metadata": {},
     "output_type": "display_data"
    }
   ],
   "source": [
    "#to display graphs within the notebook, use %matplotlib inline \n",
    "%matplotlib inline        \n",
    "import matplotlib.pyplot as plt\n",
    "plt.hist(income, 50)   #50 discrete values\n",
    "plt.show()"
   ]
  },
  {
   "cell_type": "markdown",
   "id": "a3c5d469",
   "metadata": {},
   "source": [
    "# Median"
   ]
  },
  {
   "cell_type": "code",
   "execution_count": 11,
   "id": "4959cf4d",
   "metadata": {},
   "outputs": [
    {
     "data": {
      "text/plain": [
       "1932.6698649927644"
      ]
     },
     "execution_count": 11,
     "metadata": {},
     "output_type": "execute_result"
    }
   ],
   "source": [
    "np.median(income)"
   ]
  },
  {
   "cell_type": "markdown",
   "id": "14c95030",
   "metadata": {},
   "source": [
    "With a change in data, median won't change much but mean does"
   ]
  },
  {
   "cell_type": "code",
   "execution_count": 14,
   "id": "45ded958",
   "metadata": {},
   "outputs": [
    {
     "name": "stdout",
     "output_type": "stream",
     "text": [
      "Mean:  2992959.191337367\n",
      "Median:  1937.6812279620312\n"
     ]
    }
   ],
   "source": [
    "income = np.append(income, [1000000000])\n",
    "print(\"Mean: \", np.mean(income))\n",
    "print(\"Median: \", np.median(income))"
   ]
  },
  {
   "cell_type": "markdown",
   "id": "462c47e4",
   "metadata": {},
   "source": [
    "# Mode"
   ]
  },
  {
   "cell_type": "code",
   "execution_count": 15,
   "id": "11a6d728",
   "metadata": {},
   "outputs": [
    {
     "data": {
      "text/plain": [
       "array([83, 43, 39, 52, 81, 21, 96, 89, 70, 57, 37, 78, 25, 85, 52, 76, 72,\n",
       "       34, 62, 55, 83, 67, 17, 97, 17, 89, 17, 70, 98, 42, 24, 54, 34, 31,\n",
       "       57, 54, 34, 12, 95, 75, 21, 66, 68, 28, 93, 29, 45, 12, 28, 95])"
      ]
     },
     "execution_count": 15,
     "metadata": {},
     "output_type": "execute_result"
    }
   ],
   "source": [
    "ages = np.random.randint(10, high= 100, size= 50)\n",
    "ages"
   ]
  },
  {
   "cell_type": "code",
   "execution_count": 17,
   "id": "598553ea",
   "metadata": {},
   "outputs": [
    {
     "name": "stderr",
     "output_type": "stream",
     "text": [
      "C:\\Users\\Dell\\AppData\\Local\\Temp\\ipykernel_7160\\587854796.py:2: FutureWarning: Unlike other reduction functions (e.g. `skew`, `kurtosis`), the default behavior of `mode` typically preserves the axis it acts along. In SciPy 1.11.0, this behavior will change: the default value of `keepdims` will become False, the `axis` over which the statistic is taken will be eliminated, and the value None will no longer be accepted. Set `keepdims` to True or False to avoid this warning.\n",
      "  stats.mode(ages)\n"
     ]
    },
    {
     "data": {
      "text/plain": [
       "ModeResult(mode=array([17]), count=array([3]))"
      ]
     },
     "execution_count": 17,
     "metadata": {},
     "output_type": "execute_result"
    }
   ],
   "source": [
    "from scipy import stats      #for mode\n",
    "stats.mode(ages)"
   ]
  },
  {
   "cell_type": "code",
   "execution_count": 19,
   "id": "11f89925",
   "metadata": {},
   "outputs": [
    {
     "data": {
      "image/png": "[encoded data removed]",
      "text/plain": [
       "<Figure size 640x480 with 1 Axes>"
      ]
     },
     "metadata": {},
     "output_type": "display_data"
    }
   ],
   "source": [
    "import numpy as np\n",
    "import matplotlib.pyplot as plt\n",
    "\n",
    "incomes = np.random.normal(100.0, 20.0, 10000)\n",
    "\n",
    "plt.hist(incomes, 50)  #histogram\n",
    "plt.show()"
   ]
  },
  {
   "cell_type": "code",
   "execution_count": 20,
   "id": "642ef6fd",
   "metadata": {},
   "outputs": [
    {
     "name": "stdout",
     "output_type": "stream",
     "text": [
      "Mean:  100.10399028750476\n",
      "Median:  99.90240093227698\n"
     ]
    }
   ],
   "source": [
    "print(\"Mean: \", np.mean(incomes))\n",
    "print(\"Median: \", np.median(incomes))"
   ]
  },
  {
   "cell_type": "markdown",
   "id": "9e29e475",
   "metadata": {},
   "source": [
    "# Variance\n",
    "Variance measures how \"spread-out\" the data is.\n",
    "(Average of the squared differences from the mean)"
   ]
  },
  {
   "cell_type": "code",
   "execution_count": 24,
   "id": "e6ab1ea6",
   "metadata": {},
   "outputs": [
    {
     "data": {
      "text/plain": [
       "397.60787956503503"
      ]
     },
     "execution_count": 24,
     "metadata": {},
     "output_type": "execute_result"
    }
   ],
   "source": [
    "np.var(incomes) #or incomes.var()"
   ]
  },
  {
   "cell_type": "markdown",
   "id": "1de134eb",
   "metadata": {},
   "source": [
    "# Standard Deviation\n",
    "(Square root of Variance)\n",
    "This is usually used as a way to identify outliers. Data points that lie more than one standard deviation from the mean can be considered unusual."
   ]
  },
  {
   "cell_type": "code",
   "execution_count": 25,
   "id": "48c1cd2a",
   "metadata": {},
   "outputs": [
    {
     "data": {
      "text/plain": [
       "19.940107310770298"
      ]
     },
     "execution_count": 25,
     "metadata": {},
     "output_type": "execute_result"
    }
   ],
   "source": [
    "np.std(incomes)  #or incomes.std()"
   ]
  }
 ],
 "metadata": {
  "kernelspec": {
   "display_name": "Python 3 (ipykernel)",
   "language": "python",
   "name": "python3"
  },
  "language_info": {
   "codemirror_mode": {
    "name": "ipython",
    "version": 3
   },
   "file_extension": ".py",
   "mimetype": "text/x-python",
   "name": "python",
   "nbconvert_exporter": "python",
   "pygments_lexer": "ipython3",
   "version": "3.10.0"
  }
 },
 "nbformat": 4,
 "nbformat_minor": 5
}
