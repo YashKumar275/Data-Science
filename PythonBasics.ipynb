{
 "cells": [
  {
   "cell_type": "code",
   "execution_count": 3,
   "id": "b0869ce5",
   "metadata": {},
   "outputs": [
    {
     "name": "stdout",
     "output_type": "stream",
     "text": [
      "[31.54626147 39.39452629 29.48665533 49.22296675 25.73506073  7.76157202\n",
      " 31.89740421 27.64996422 32.7296644  17.65878602]\n"
     ]
    }
   ],
   "source": [
    "import numpy as np\n",
    "\n",
    "#np.random,normal(mean, standard deviation, no. of values)\n",
    "#it's a normal distribution\n",
    "x = np.random.normal(30, 10, 10)\n",
    "print(x)"
   ]
  },
  {
   "cell_type": "markdown",
   "id": "93c52de8",
   "metadata": {},
   "source": [
    "# List\n"
   ]
  },
  {
   "cell_type": "code",
   "execution_count": 16,
   "id": "950c7775",
   "metadata": {},
   "outputs": [
    {
     "name": "stdout",
     "output_type": "stream",
     "text": [
      "5\n",
      "[10, 20]\n",
      "[40, 50]\n",
      "[10, 20]\n",
      "[30, 40, 50]\n"
     ]
    }
   ],
   "source": [
    "List = [10, 20, 30, 40, 50]\n",
    "print(len(List))\n",
    "print(List[:2])\n",
    "print(List[3:])\n",
    "print(List[:-3])\n",
    "print(List[-3:])"
   ]
  },
  {
   "cell_type": "code",
   "execution_count": 9,
   "id": "36cfe429",
   "metadata": {},
   "outputs": [
    {
     "name": "stdout",
     "output_type": "stream",
     "text": [
      "[10, 20, 30, 40, 50, 60, 70, 60, 70, 60, 70]\n"
     ]
    }
   ],
   "source": [
    "#to add a set of values in the form of a list\n",
    "List.extend([60,70])\n",
    "print(List)"
   ]
  },
  {
   "cell_type": "code",
   "execution_count": 10,
   "id": "0c9e6b4d",
   "metadata": {},
   "outputs": [
    {
     "name": "stdout",
     "output_type": "stream",
     "text": [
      "[10, 20, 30, 40, 50, 60, 70, 60, 70, 60, 70, 80]\n"
     ]
    }
   ],
   "source": [
    "#to add a single value to the list\n",
    "List.append(80)\n",
    "print(List)"
   ]
  },
  {
   "cell_type": "code",
   "execution_count": 11,
   "id": "7f2dfd2a",
   "metadata": {},
   "outputs": [
    {
     "name": "stdout",
     "output_type": "stream",
     "text": [
      "[[10, 20, 30, 40, 50, 60, 70, 60, 70, 60, 70, 80], [100, 110, 120, 130]]\n"
     ]
    }
   ],
   "source": [
    "#it's a list of lists\n",
    "List2 = [100, 110, 120, 130]\n",
    "listoflists = [List, List2]\n",
    "print(listoflists)"
   ]
  },
  {
   "cell_type": "code",
   "execution_count": 12,
   "id": "e107b94b",
   "metadata": {},
   "outputs": [
    {
     "data": {
      "text/plain": [
       "[10, 30, 50]"
      ]
     },
     "execution_count": 12,
     "metadata": {},
     "output_type": "execute_result"
    }
   ],
   "source": [
    "#to sort a list\n",
    "a= [30, 50, 10]\n",
    "a.sort()\n",
    "a"
   ]
  },
  {
   "cell_type": "code",
   "execution_count": 13,
   "id": "3d544c2b",
   "metadata": {},
   "outputs": [
    {
     "data": {
      "text/plain": [
       "[50, 30, 10]"
      ]
     },
     "execution_count": 13,
     "metadata": {},
     "output_type": "execute_result"
    }
   ],
   "source": [
    "#to sort in reverse order\n",
    "a.sort(reverse=True)\n",
    "a"
   ]
  },
  {
   "cell_type": "markdown",
   "id": "d4fac64f",
   "metadata": {},
   "source": [
    "# Tuple\n",
    "Tuples are immutable lists. \n",
    "Once a tuple is created, can't change it."
   ]
  },
  {
   "cell_type": "code",
   "execution_count": 18,
   "id": "9e966c50",
   "metadata": {},
   "outputs": [
    {
     "data": {
      "text/plain": [
       "3"
      ]
     },
     "execution_count": 18,
     "metadata": {},
     "output_type": "execute_result"
    }
   ],
   "source": [
    "x = (1,2,3)\n",
    "len(x)"
   ]
  },
  {
   "cell_type": "code",
   "execution_count": 23,
   "id": "79658886",
   "metadata": {},
   "outputs": [
    {
     "data": {
      "text/plain": [
       "[(1, 2, 3), (10, 20, 30)]"
      ]
     },
     "execution_count": 23,
     "metadata": {},
     "output_type": "execute_result"
    }
   ],
   "source": [
    "y = (10, 20, 30)\n",
    "listoftuples=[x,y]\n",
    "tupleoftuples= (x,y)\n",
    "listoftuples"
   ]
  },
  {
   "cell_type": "code",
   "execution_count": 24,
   "id": "d306c4d1",
   "metadata": {},
   "outputs": [
    {
     "data": {
      "text/plain": [
       "((1, 2, 3), (10, 20, 30))"
      ]
     },
     "execution_count": 24,
     "metadata": {},
     "output_type": "execute_result"
    }
   ],
   "source": [
    "tupleoftuples"
   ]
  },
  {
   "cell_type": "code",
   "execution_count": 25,
   "id": "ef1ba3f7",
   "metadata": {},
   "outputs": [
    {
     "name": "stdout",
     "output_type": "stream",
     "text": [
      "John\n",
      "25\n"
     ]
    }
   ],
   "source": [
    "(name, age)= \"John,25\".split(',')\n",
    "print(name)\n",
    "print(age)"
   ]
  },
  {
   "cell_type": "markdown",
   "id": "364733e8",
   "metadata": {},
   "source": [
    "# Dictionary\n",
    "Like a map or hash table"
   ]
  },
  {
   "cell_type": "code",
   "execution_count": 26,
   "id": "e21f4cf8",
   "metadata": {},
   "outputs": [
    {
     "name": "stdout",
     "output_type": "stream",
     "text": [
      "Sisko\n"
     ]
    }
   ],
   "source": [
    "captains = {} #Empty Dictionary\n",
    "captains[\"Enterprise\"] = \"Kirk\" #here \"Enterprise\" is the key and \"Kirk\" is the value\n",
    "captains[\"Enterprise D\"] = \"Picard\"\n",
    "captains[\"Deep Space Nine\"] = \"Sisko\"\n",
    "captains[\"Voyager\"] = \"Janeway\"\n",
    "\n",
    "print(captains[\"Deep Space Nine\"])"
   ]
  },
  {
   "cell_type": "code",
   "execution_count": 28,
   "id": "b6184778",
   "metadata": {},
   "outputs": [
    {
     "name": "stdout",
     "output_type": "stream",
     "text": [
      "Picard\n",
      "None\n"
     ]
    }
   ],
   "source": [
    "print(captains.get(\"Enterprise D\"))\n",
    "print(captains.get(\"Harry Potter\"))"
   ]
  },
  {
   "cell_type": "code",
   "execution_count": 29,
   "id": "f9b58ed2",
   "metadata": {},
   "outputs": [
    {
     "name": "stdout",
     "output_type": "stream",
     "text": [
      "Enterprise:Kirk\n",
      "Enterprise D:Picard\n",
      "Deep Space Nine:Sisko\n",
      "Voyager:Janeway\n"
     ]
    }
   ],
   "source": [
    "for ship in captains:\n",
    "    print(ship + \":\" + captains[ship])"
   ]
  },
  {
   "cell_type": "markdown",
   "id": "8354840b",
   "metadata": {},
   "source": [
    "# Functions"
   ]
  },
  {
   "cell_type": "code",
   "execution_count": 31,
   "id": "603e5ee4",
   "metadata": {},
   "outputs": [
    {
     "name": "stdout",
     "output_type": "stream",
     "text": [
      "16\n"
     ]
    }
   ],
   "source": [
    "def Square(x):\n",
    "    return x * x\n",
    "\n",
    "print(Square(4))"
   ]
  },
  {
   "cell_type": "code",
   "execution_count": 32,
   "id": "e084eb78",
   "metadata": {},
   "outputs": [
    {
     "name": "stdout",
     "output_type": "stream",
     "text": [
      "36\n"
     ]
    }
   ],
   "source": [
    "def fn(f, a):\n",
    "    return f(a)\n",
    "\n",
    "print(Square(6))"
   ]
  },
  {
   "cell_type": "markdown",
   "id": "a8a166c8",
   "metadata": {},
   "source": [
    "#### Lambda Function"
   ]
  },
  {
   "cell_type": "code",
   "execution_count": 40,
   "id": "f33d5019",
   "metadata": {},
   "outputs": [
    {
     "name": "stdout",
     "output_type": "stream",
     "text": [
      "64\n"
     ]
    }
   ],
   "source": [
    "#Lambda Functions are often used for short, simple operations that are not likely to be reused elsewhere. \n",
    "print(fn(lambda x: x*x*x, 4))"
   ]
  },
  {
   "cell_type": "markdown",
   "id": "6138224e",
   "metadata": {},
   "source": [
    "# Loops"
   ]
  },
  {
   "cell_type": "code",
   "execution_count": 41,
   "id": "48a387dc",
   "metadata": {},
   "outputs": [
    {
     "name": "stdout",
     "output_type": "stream",
     "text": [
      "0\n",
      "2\n",
      "3\n",
      "4\n",
      "5\n"
     ]
    }
   ],
   "source": [
    "for x in range(10):\n",
    "    if(x == 1):\n",
    "        continue\n",
    "    if(x > 5):\n",
    "        break\n",
    "    print(x)"
   ]
  },
  {
   "cell_type": "code",
   "execution_count": 42,
   "id": "31ead881",
   "metadata": {},
   "outputs": [
    {
     "name": "stdout",
     "output_type": "stream",
     "text": [
      "0\n",
      "2\n",
      "4\n",
      "6\n",
      "8\n"
     ]
    }
   ],
   "source": [
    "m = 0\n",
    "while(m<10):\n",
    "    print(m)\n",
    "    m+=2"
   ]
  },
  {
   "cell_type": "code",
   "execution_count": null,
   "id": "a5ca9ea3",
   "metadata": {},
   "outputs": [],
   "source": []
  }
 ],
 "metadata": {
  "kernelspec": {
   "display_name": "Python 3 (ipykernel)",
   "language": "python",
   "name": "python3"
  },
  "language_info": {
   "codemirror_mode": {
    "name": "ipython",
    "version": 3
   },
   "file_extension": ".py",
   "mimetype": "text/x-python",
   "name": "python",
   "nbconvert_exporter": "python",
   "pygments_lexer": "ipython3",
   "version": "3.10.0"
  }
 },
 "nbformat": 4,
 "nbformat_minor": 5
}
